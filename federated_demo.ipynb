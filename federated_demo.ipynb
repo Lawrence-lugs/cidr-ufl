{
  "cells": [
    {
      "cell_type": "markdown",
      "metadata": {
        "id": "LcM98LGwzpku"
      },
      "source": [
        "# Welcome to the CIDR DL Framework!\n",
        "\n",
        "This framework contains sample implementations of FL using *Flower* and *Pytorch*\n",
        "\n",
        "To get started with the demo for Federated Learning under the framework, let's start with a demonstration of CIFAR10.\n",
        "\n",
        "First, go to the top right hand corner and select a runtime type with Python 3.9 and a GPU.\n",
        "\n",
        "Let's get all the dependencies with the following code:"
      ]
    },
    {
      "cell_type": "code",
      "execution_count": null,
      "metadata": {
        "id": "L9J9sBPVzpky"
      },
      "outputs": [],
      "source": [
        "# Ray after 1.11.1 has a memory leak when used with flower, but this does not work with colab.\n",
        "!pip install flwr[\"simulation\"]\n",
        "!git clone https://github.com/Lawrence-lugs/cidr-ufl\n",
        "%cd cidr-ufl"
      ]
    },
    {
      "cell_type": "markdown",
      "metadata": {
        "id": "9ZWStfvUzpkz"
      },
      "source": [
        "To get started with the framework, we first import the framework."
      ]
    },
    {
      "cell_type": "code",
      "execution_count": null,
      "metadata": {
        "id": "Rqqw0jpRzpkz"
      },
      "outputs": [],
      "source": [
        "import dl_framework\n",
        "\n",
        "my_config = dl_framework.fw_config()"
      ]
    },
    {
      "cell_type": "markdown",
      "metadata": {
        "id": "l00RzG-Bzpk0"
      },
      "source": [
        "Fist, we set the locations for the simulation's output data (we'll view this later with tensorboard)  "
      ]
    },
    {
      "cell_type": "code",
      "execution_count": null,
      "metadata": {
        "id": "JEhK7mQkzpk0"
      },
      "outputs": [],
      "source": [
        "my_config.tensorboard_runs_dir = 'tb_data/sample'\n",
        "my_config.run_name = 'demo'"
      ]
    },
    {
      "cell_type": "markdown",
      "metadata": {
        "id": "lWN6RvR2zpk0"
      },
      "source": [
        "We also need to set the general settings for the distributed learning simulation. Note that all of these have default values so you can actually skip everything. Look into `dl_framework/__init__.py` to see the default values."
      ]
    },
    {
      "cell_type": "code",
      "execution_count": null,
      "metadata": {
        "id": "bTopGieNzpk1"
      },
      "outputs": [],
      "source": [
        "my_config.num_nodes = 2\n",
        "my_config.clients_per_gpu = 1 # careful when setting this to more than 1, you'll probably need more than a GTX 1080T\n",
        "my_config.num_rounds = 10\n",
        "my_config.local_epochs = 10"
      ]
    },
    {
      "cell_type": "markdown",
      "metadata": {
        "id": "M1YfULORzpk1"
      },
      "source": [
        "Importantly, we define the node class that the framework will use. In the framework, we define & use `dl_framework.dp_node` and `dl_framework.dl_model` objects to specify the behavior of the node, including the training algorithm and the model.\n",
        "\n",
        "This is compatible with any AI framework, so long as you can inherit and define the necessary classes.\n",
        "\n",
        "For now, let's settle with using a premade node & model."
      ]
    },
    {
      "cell_type": "code",
      "execution_count": null,
      "metadata": {
        "id": "Ljk1zn8Hzpk1"
      },
      "outputs": [],
      "source": [
        "import dl_framework.node\n",
        "my_config.node_class = dl_framework.node.dl_node"
      ]
    },
    {
      "cell_type": "markdown",
      "metadata": {
        "id": "CZY6Lx2Yzpk2"
      },
      "source": [
        "The last thing we need to configure, which is not optional (there are no default values for this one) is the testset and the trainset(s).\n",
        "\n",
        "We'll need to define the trainset as a list of two trainsets, since we have two nodes.\n",
        "\n",
        "Below is code that can create any number of IID subsets of the toycar dataset (this framework should be able to handle non-IID subsets, as it is based on **Flower** and **FedAvg** - experiments with such are still to follow but are easy to implement in the framework by editing the code below)."
      ]
    },
    {
      "cell_type": "code",
      "execution_count": null,
      "metadata": {
        "id": "Q8TdmzXezpk2"
      },
      "outputs": [],
      "source": [
        "import torch\n",
        "print(torch.__version__)\n",
        "def split_dataset(trainset: torch.utils.data.dataset.Dataset,num_nodes: int):\n",
        "\n",
        "    torchseed = torch.Generator().manual_seed(42)\n",
        "    dataset_shares = [1 / num_nodes] * num_nodes\n",
        "\n",
        "    import numpy as np\n",
        "    print(np.sum(dataset_shares))\n",
        "\n",
        "    local_trainsets = torch.utils.data.random_split(trainset, dataset_shares, torchseed)\n",
        "\n",
        "    return local_trainsets\n",
        "\n",
        "import torchvision\n",
        "import image_classification.utils\n",
        "trainset = torchvision.datasets.CIFAR10(\n",
        "        root='data',\n",
        "        train=True,\n",
        "        download=True,\n",
        "        transform=image_classification.utils.t_cropflip_augment\n",
        "    )\n",
        "trainsets = split_dataset(trainset,my_config.num_nodes)\n",
        "trainset = None\n",
        "testset = torchvision.datasets.CIFAR10(\n",
        "        root='data',\n",
        "        train=False,\n",
        "        download=True,\n",
        "        transform=image_classification.utils.t_normalize\n",
        "    )\n",
        "\n",
        "my_config.testset = testset\n",
        "my_config.trainsets = trainsets"
      ]
    },
    {
      "cell_type": "markdown",
      "metadata": {
        "id": "t3Fo_aEozpk2"
      },
      "source": [
        "To be able to view the outputs, we need to open the tensorboard server. Personally, I would open a browser to look at `localhost:6006` instead of viewing it here for a better experience.\n",
        "\n",
        "When using the framework without this notebook, you'll have to open tensorboard using the same command as below, but in a terminal. `tensorboard --logdir tb_data/sample`"
      ]
    },
    {
      "cell_type": "code",
      "execution_count": null,
      "metadata": {
        "id": "kktq7Exqzpk2"
      },
      "outputs": [],
      "source": [
        "%load_ext tensorboard\n",
        "\n",
        "%tensorboard --logdir tb_data/sample"
      ]
    },
    {
      "cell_type": "markdown",
      "metadata": {
        "id": "ZApHLe2Tzpk3"
      },
      "source": [
        "Finally, let's start the simulation."
      ]
    },
    {
      "cell_type": "code",
      "execution_count": null,
      "metadata": {
        "id": "a53--13Wzpk3"
      },
      "outputs": [],
      "source": [
        "import dl_framework.framework as framework\n",
        "!mkdir node_states\n",
        "framework.run(my_config)"
      ]
    }
  ],
  "metadata": {
    "accelerator": "GPU",
    "colab": {
      "gpuType": "T4",
      "provenance": []
    },
    "kernelspec": {
      "display_name": "Python 3",
      "name": "python3"
    },
    "language_info": {
      "codemirror_mode": {
        "name": "ipython",
        "version": 3
      },
      "file_extension": ".py",
      "mimetype": "text/x-python",
      "name": "python",
      "nbconvert_exporter": "python",
      "pygments_lexer": "ipython3",
      "version": "3.9.16"
    }
  },
  "nbformat": 4,
  "nbformat_minor": 0
}
