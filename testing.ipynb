{
 "cells": [
  {
   "cell_type": "code",
   "execution_count": 1,
   "metadata": {},
   "outputs": [
    {
     "name": "stderr",
     "output_type": "stream",
     "text": [
      "2023-08-19 17:04:31.894929: I tensorflow/core/platform/cpu_feature_guard.cc:182] This TensorFlow binary is optimized to use available CPU instructions in performance-critical operations.\n",
      "To enable the following instructions: AVX2 FMA, in other operations, rebuild TensorFlow with the appropriate compiler flags.\n",
      "2023-08-19 17:04:32.775654: W tensorflow/compiler/tf2tensorrt/utils/py_utils.cc:38] TF-TRT Warning: Could not find TensorRT\n"
     ]
    }
   ],
   "source": [
    "from keyword_spotting import ks_node\n",
    "from torchaudio.datasets import SPEECHCOMMANDS\n",
    "\n",
    "trainset = SPEECHCOMMANDS(\n",
    "    root = '/home/raimarc/lawrence-workspace/data',\n",
    "    download = True,\n",
    "    subset = \"training\"\n",
    ")\n",
    "\n",
    "testset = SPEECHCOMMANDS(\n",
    "    root = '/home/raimarc/lawrence-workspace/data',\n",
    "    download = True,\n",
    "    subset = \"testing\"\n",
    ")"
   ]
  },
  {
   "cell_type": "code",
   "execution_count": 8,
   "metadata": {},
   "outputs": [
    {
     "data": {
      "text/plain": [
       "'f2e59fea'"
      ]
     },
     "execution_count": 8,
     "metadata": {},
     "output_type": "execute_result"
    }
   ],
   "source": [
    "testset[2][3]"
   ]
  },
  {
   "cell_type": "code",
   "execution_count": 11,
   "metadata": {},
   "outputs": [
    {
     "name": "stderr",
     "output_type": "stream",
     "text": [
      "100%|██████████| 84843/84843 [00:58<00:00, 1446.51it/s]"
     ]
    },
    {
     "name": "stdout",
     "output_type": "stream",
     "text": [
      "Words: ['0165e0e8', '017c4098', '02ade946', '042a8dde', '050170cb', '0585b66d', '06f6c194', '08ab231c', '0a2b400e', '0a396ff2', '0a5636ca', '0b7ee1a0', '0ba018fc', '0d6d7360', '0d85a428', '0d90d8e1', '0e6e36c9', '0e8ec1cb', '0f46028a', '0f7266cf', '113b3fbc', '131e738d', '13a93b33', '13dce503', '1474273a', '1496195a', '14c7b073', '1589451d', '15dd287d', '18d84076', '18e910f4', '18ffa72d', '195c120a', '1970b130', '19a1e5c7', '1a0f9c63', '1a994c9f', '1b18600d', '1b42b551', '1b627376', '1c76f5f3', '1c84a139', '1dc86f91', '1e9e6bdd', '1ed0b13d', '1f3e4139', '20a0d54b', '211b928a', '226537ab', '234d6a48', '2356b88d', '235b444f', '236b6113', '23add12a', '23da904f', '244cc3a5', '24a3e589', '256c0a05', '25e95412', '262d7a03', '2748cce7', '27c24504', '29229c21', '2927c601', '29dce108', '2a1f4853', '2aca1e72', '2b5e346d', '2e75d37a', '2f0ce4d9', '2fcb6397', '2fee065a', '30060aba', '3102f006', '3108acca', '312b96ec', '31db232b', '322d17d3', '3291330e', '332d33b1', '333d7ddb', '339f2c5c', '3589bc72', '365908bd', '39833acb', '39b5fdab', '3a3ee7ed', '3a53b856', '3a69f765', '3b195250', '3b3d2f59', '3bb68054', '3ce4910e', '3d794813', '3d9bbe2d', '3e6e5b0f', '3f45a0cf', '40738a2d', '42398aab', '42a99aec', '42f81601', '435695e3', '460209ac', '472b8045', '4995d875', '4c3cddb8', '4c6944d6', '4cee0c60', '4d763ca4', '4e61bf96', '4e99c1b7', '4f558007', '4fce7686', '5087f68b', '508e30ee', '513aeddf', '51c5601d', '51f7a034', '52162b51', '542f38a2', '54ad8f22', '54aecbd5', '559bc36a', '57152045', '5769c5ab', '578d3efb', '5a5721f8', '5a98d407', '5bf1f1cb', '5c43ac9f', '5cf1ecce', '5d4e3bb8', '5ebc1cda', '5f1253e9', '5f5eef60', '5f9cd2eb', '608473c9', '6124b431', '616420be', '617aeb6c', '61ab8fbc', '61e2f74f', '62ccd358', '62f05757', '63ae15e4', '645ed69d', '64a80906', '64df20d8', '6565a81d', '6640fdc0', '66e8a4ec', '674ca5ea', '676f8138', '679463fc', '67bdbf56', '6969e51a', '69a1a79f', '6aa8def4', '6bf5baf3', '6c9a1ac2', '6ef407da', '6fb3d5a7', '70880cc6', '70b0ccf4', '7213ed54', '72242187', '728be664', '72e382bd', '74241b28', '773e26f7', '779de043', '79903546', '7c83c5f6', '7c86c03e', '7ce8df21', '7d4beb11', '7d6b4b10', '7e7ca854', '7f208e83', '7f581e94', '7f9eb952', '7fb8d703', '80768fa5', '80be36a2', '81332c92', '821b64cc', '82951cf0', '833d9f56', '845f8553', '85851131', '85ac0c1b', '86f3558f', '878befa7', '879a2b38', '87d5e978', '88b7c5fa', '88d009d2', '88e730cd', '890cc926', '893b3c11', '89947bd7', '8b25410a', '8b367d88', '8d5e1dc0', '8e080ece', '8e523821', '8f447c3e', '90735d8b', '90e72357', '9151f184', '91ffb786', '92521ccc', '9307154f', '9448c397', '94d370bf', '95fd5a0f', '967ad5ef', '96d8bb6f', '978240e1', '983577be', '98ea0818', '9a2e5b3c', '9a76f8c3', '9b02d503', '9b8a7439', '9be15e93', '9bfd6a9d', '9e92ef0c', '9f93e408', '9fa86a74', '9fac5701', 'a045368c', 'a04817c2', 'a05a90c1', 'a16013b7', 'a1cf7fd8', 'a1e71565', 'a293e285', 'a2cc5444', 'a2d61879', 'a489191a', 'a55105d0', 'a56859ea', 'a7200079', 'a73be046', 'a77fbcfd', 'a7acbbeb', 'a928cc5b', 'a929f9b9', 'ab46af55', 'ab9b93e4', 'ac9dee0e', 'acb9db68', 'ace072ba', 'ace82a68', 'acfd5b5e', 'ad526ada', 'ae32324a', 'ae5578f4', 'af54ec46', 'af6fbbf5', 'af790082', 'b089169d', 'b0f5b16d', 'b29f8b23', 'b2ae3928', 'b308773d', 'b414c653', 'b44007bc', 'b4ea0d9a', 'b528edb3', 'b5cf6ea8', 'b6573c88', 'b69002d4', 'b69fe0e2', 'b76f6088', 'b8874962', 'b91b718c', 'bb6d4301', 'bbc30633', 'bbf38549', 'bc999754', 'bcf614a2', 'bd76a7fd', 'bdd22e4d', 'bde0f20a', 'be0f2293', 'c0cb43d6', 'c1cc6e95', 'c2657ba5', 'c2dccf38', 'c351e611', 'c41d9052', 'c4e00ee9', 'c50f55b8', 'c53e1048', 'c5a1e46c', 'c633a455', 'c678e0b3', 'c91dbe66', 'c98bbbd3', 'ca4912b6', 'cb62dbf1', 'cb72dfb6', 'cc3b5b62', 'cc4f9250', 'cd671b5f', 'cdee383b', 'ceef6d96', 'd070ea86', 'd0745d72', 'd0fb9ff4', 'd1dd03ed', 'd21fd169', 'd264f7b6', 'd394ef8e', 'd3d8fcd0', 'd4dddb92', 'd9aa8c90', 'da040491', 'da93deb7', 'dae01802', 'dd664d92', 'ddedba85', 'de3fe344', 'de89e2ca', 'e1acea44', 'e2633cf5', 'e3e0f145', 'e4be0cf6', 'e6327279', 'e7bcee8a', 'e882abb2', 'e9abfe31', 'e9bc5cc2', 'ea0cf37f', 'eaa83485', 'ebdd0f59', 'ec32860c', 'ec989d6d', 'ec9b830b', 'ed032775', 'eda072b5', 'ee1d8d49', 'ee23b031', 'eeaf97c3', 'ef3367d9', 'f01a0d63', 'f035e2ea', 'f0522ff4', 'f0659908', 'f1d8a638', 'f1eaff75', 'f250345e', 'f2898d06', 'f2e9b610', 'f2f0d244', 'f30285c8', 'f5341341', 'f5626af6', 'f568162b', 'f68160c0', 'f736ab63', 'f798ac78', 'f8ba7c0e', 'fa57ab3b', 'fb7008b0', 'fb8c31a9', 'fbb2f6cc', 'fbb56351', 'fc3ba625', 'fd5ccd39', 'fd9c7413', 'ff0e27c3', 'ff4ed4f3', 'ffea4a57', '00176480', '004ae714', '00f0204f', '012187a4', '012c8314', '0132a06d', '0135f3f2', '0137b3f4', '014f9f65', '01648c51', '016e2c6d', '01b4757a', '01bcfc0c', '0227998e', '02746d24', '035de8fe', '0362539c', '037c445a', '0397ecda', '03c96658', '042186b8', '042ea76c', '0447d7c1', '0474c92a', '05739450', '05b2db80', '05d18852', '06076b6b', '063d48cf', '0685264e', '07089da9', '0717b9f6', '07363607', '079dfce3', '07c5129e', '09a7aa2a', '09bcdc9d', '09ddc105', '0a196374', '0a7c2a8d', '0b09edd3', '0b56bcfe', '0b77ee66', '0bde966a', '0c2ca723', '0c2d2ffa', '0d2bcf9d', '0d393936', '0e5193e6', '0f7dc557', '0fc57d61', '0ff728b5', '102192fd', '10467b06', '10627519', '10ace7eb', '10c6d873', '11321027', '118261a9', '11860c84', '11a022ba', '11b1df78', '12529547', '126a31d2', '129c7d8d', '13199b79', '1365dd89', '146d97db', '1473be6a', '14872d06', '14df1e28', '15b0c947', '15c371c7', '15f04ff8', '161fcca8', '1625acd8', '16d41d07', '16fce7de', '1706c35f', '172dc2b0', '173ae793', '173ce2be', '1746d7b6', '179a61b7', '17c94b23', '17cc40ee', '17f0e206', '187af8be', '1887fe04', '1890e5c3', '18a1aab9', '18a8f03f', '18c54a68', '19785c4e', '197f4153', '1993db46', '1995cf9e', '19e246ad', '19f9c115', '1a073312', '1a4259c3', '1a5b9ca4', '1a673010', '1a6eca98', '1a892463', '1afd49bf', '1b63157b', '1b755c65', '1bb574f9', '1bb6ed89', '1c3f50ad', '1c45ceb2', '1c6e5447', '1cbcc7a7', '1d1fe0a0', '1dce06e8', '1df483c0', '1df99a8a', '1e4064b8', '1e412fac', '1ecfb537', '1ed557b9', '1efdf53f', '1ffd513b', '20174140', '2039b9c1', '20fd451f', '215699ff', '21832144', '21cbe292', '21e8c417', '229978fd', '2313e093', '234ab0fb', '238c112c', '23abe1c9', '24b82192', '24befdb3', '24ed94ab', '25040e85', '2510c044', '2589f361', '25c14394', '265bd13a', '26a093e1', '26e573a9', '270bfa52', '274c008f', '27b03931', '28460a60', '28612180', '28ce0c58', '28e47b1a', '28ed6bc9', '2a0b413e', '2aec99ec', '2b3f509b', '2bd2cad5', '2bdbe5f7', '2be08ce4', '2bfe70ef', '2c5e0347', '2c6446f7', '2c7c33e8', '2cf28b70', '2d92f18b', '2da58b32', '2dcb6848', '2e8c59f7', '2f0a410b', '300384f0', '30065f33', '30137d34', '305776dd', '30802c5d', '30a09789', '30f31e42', '311fde72', '31270cb2', '312d6d81', '3143fdff', '31583d30', '31d31fa0', '31d68957', '31fd5cf5', '3209ec42', '324210dd', '325a0c39', '32efce64', '333784b7', '3389305e', '338dacf5', '33903159', '3411cf4b', '34263ab3', '34ba417a', '34e8c726', '353b4d33', '3565ca83', '35c8fa78', '35d1b6ee', '365531e2', '37b03ab1', '37e8db82', '38d78313', '39a6b995', '39dce8cc', '39ec87ac', '3a182c98', '3a33d3a4', '3a789a0d', '3a7d8872', '3ab9ba07', '3b852f6f', '3bc21161', '3bfd30e6', '3c257192', '3c6d55b3', '3c8dc702', '3cdecb0b', '3cfc6b3a', '3d53244b', '3d6bee47', '3e31dffe', '3e3b65eb', '3e3fa7fd', '3eb8764c', '3ec05c3d', '3ed3e49a', '3efa7ec4', '3fb8c268', '3fdafe25', '40115b19', '402e2977', '413997c1', '413bcfe1', '41474817', '41777abb', '418e7158', '41dce6f5', '42c6fff1', '42ccb57a', '42e3f068', '435f9f9e', '43691f67', '43b85b64', '43f57297', '4407ba92', '446a3161', '44e9d8d2', '460f2bad', '46114b4e', '462e1919', '46a153d8', '47565088', '479e64cc', '48463cbc', '4874a7e9', '48a9f771', '48bdc11c', '48e8b82a', '493392c6', '499be02e', '4a1e736b', '4a294341', '4a803e67', '4abb2400', '4b25f620', '4b3a7ad5', '4bb1244f', '4bc2c2c5', '4beff0c5', '4c13fe25', '4c432947', '4c594e0f', '4ca37738', '4cb874bb', '4d9e07cf', '4def68db', '4f086393', '4f256313', '50a7d406', '50a8ef27', '50d1c8e3', '51055bda', '5165cf0a', '518588b6', '51995cea', '520b2c17', '5236848b', '529eda42', '531a5b8a', '533c6564', '53fd1780', '541e4079', '54412eae', '54b6d355', '551e42e8', '55d3725a', '5677ec77', '569455ff', '56eab10e', '5705a0f9', '57376a4c', '573cdb8a', '57b38f48', '57b68383', '57de2379', '589bce2c', '58df33b5', '590750e8', '5a0bc987', '5a3712c9', '5a9f7324', '5aac2efa', '5af0ca83', '5b09db89', '5ba724a7', '5be23def', '5c39594f', '5d9bb361', '5de8f2f0', '5e033479', '5ef35194', '5efb758c', '5f1b1051', '5f47fdf9', '5f8097e1', '5f8e50a0', '5fb88f4c', '60472d26', '6094340e', '611d2b50', '61482e52', '6166ae21', '617de221', '619b5164', '61a9f72a', '61abbf52', '61d3e51e', '61e50f62', '620ff0fa', '62581901', '625fd898', '62605293', '627c0bec', '62b7c848', '62ef962d', '6347b393', '6366f61a', '637c702a', '638548d5', '63996b7c', '6414258b', '64220627', '64574a99', '64da5281', '65040d9b', '650daf8e', '651d108f', '652b3da7', '65c73b55', '65d81c54', '65d844fc', '65f2531f', '66041c69', '66276b0e', '66a412a7', '66aa0f29', '6823565f', '682e1687', '6846af18', '686d030b', '6889b21f', '68effe85', '6904f0cb', '69086eb0', '69953f48', '6a014b29', '6a1908f8', '6a203e0e', '6a2fb9a5', '6a700f9d', '6ace4fe1', '6adb8ad9', '6af4aa07', '6b7d5101', '6c429c7b', '6c968bd9', '6cc28ce5', '6ceeb9aa', '6d1dcca6', '6d7af359', '6e2ef3d5', '6e41a77e', '6f342826', '6f5eea74', '6f7724f5', '6f9088d7', '6fca237d', '7081436f', '708a9569', '70a00e98', '712e4d58', '716757ce', '71904de3', '71d0ded4', '71f6fed7', '7211390b', '72320401', '723efc4c', '726382d6', '72aa7259', '72ca6a6d', '7303215d', '73124b26', '73f0c1f7', '742d6431', '747e69fd', '74b73f88', '75b631ff', '765ffccb', '76e53db9', '772db621', '7799c9cd', '77def3ee', '77f185d3', '78030270', '78102205', '7846fd85', '784e281a', '78622c2b', '78884794', '789e4ee7', '7910d292', '7a5530c9', '7b2e879e', '7b301939', '7bf801d1', '7c75a504', '7c9b43f0', '7cbf645a', '7cf14c54', '7d149b38', '7d5f87c8', '7dc50b88', '7e4fa1d8', '7e783e3f', '7ea032f3', '7f74626f', '7fa5fa1f', '7fc74fbe', '7ff085e1', '7ff4fc72', '80c17118', '80fe1dc7', '810c99be', '8134f43f', '813b82a6', '815f0f03', '81898f68', '81a345a3', '824e8ce5', '825f450d', '8281a2a8', '82c6d220', '82e7204d', '8353fea1', '837f7378', '83c9e7e6', '83f9c4ab', '840eab5a', '8442ea62', '848e7f6e', '84999496', '84bf12ff', '850e2222', '857366dd', '85b877b5', '86648261', '86f12ac0', '87014d40', '876c84d6', '8781f4c1', '87c62767', '87eff300', '88120683', '884ae8e1', '888a0c49', '88a487ce', '88e85150', '88e90bc1', '89d6d11e', '89ed36ab', '89f3ab7d', '89f680f3', '8a0457c9', '8a28231e', '8a744054', '8aa35b0c', '8bbd98d0', '8c3c4715', '8c4854bc', '8c7c9168', '8c888bbb', '8d5d076d', '8d8d9855', '8dd24423', '8e05039f', '8ea22de7', '8eb4a1bf', '8f3f252c', '902258bb', '90645155', '90b0b91a', '919d3c0e', '91cdef62', '924c1a04', '92a9c5e6', '92b2bf59', '92e17cc4', '9331d34b', '937b433e', '93ec8b84', '94403ad3', '948867e7', '94e6864f', '951cac20', '95218ce8', '95299b6c', '953fe1ad', '9587481f', '9637f43f', '96a48d28', '9712cce0', '97addd88', '97e0c576', '97f493b9', '981e2a16', '982babaf', '98447c43', '9886d8bf', '988e2f9a', '99081f4d', '990ebd1f', '997867e7', '99e6cab8', '99fad6a0', '9a3f97f8', '9a4d12fd', '9aa21fa9', '9ab86dd0', '9acd0254', '9b027ecf', '9b402bc2', '9b5815cd', '9bea2ac7', '9beccfc8', '9c06a3f3', '9c24bc76', '9c59dd28', '9ce7a419', '9d8ac38b', '9e075bf1', '9e42ae25', '9e46cfa1', '9e6bb505', '9efe5140', '9f63152b', '9f869f70', '9ff1b8b6', '9ff2d2f4', 'a108341b', 'a16b3102', 'a19452d5', 'a1a59b72', 'a1c63f25', 'a1cff772', 'a24582a0', 'a24cf51c', 'a2b16113', 'a2fefcb4', 'a3255f5c', 'a331d9cb', 'a3502f15', 'a3518e99', 'a4baac4e', 'a50a98d2', 'a518d1cf', 'a527cb3c', 'a5609cce', 'a5d485dc', 'a6285644', 'a62f807b', 'a84dee7b', 'a8cb6dda', 'a8ee11c7', 'a8f45bdc', 'a902ce9b', 'a996cf66', 'a9abc695', 'ab353673', 'ab5ae445', 'ab5b211a', 'ab5d7179', 'ab71c9a7', 'ab81c9c8', 'aba19127', 'ac7840d8', 'acfd3bc3', 'ad1429cf', 'ad5aeec2', 'ad89eb1e', 'adc216c5', 'ae04cdbe', 'ae82c78c', 'aeb99b1c', 'af30314d', 'afabfa0e', 'afb9e62e', 'aff582a1', 'b00c4c53', 'b06c19b0', 'b087aa0e', 'b0ae6326', 'b0bad4a9', 'b1114e4f', 'b12bef84', 'b15fc37d', 'b1df80c0', 'b21f0fa4', 'b25b6065', 'b26343e9', 'b2fbe484', 'b31ad508', 'b3327675', 'b3849d6e', 'b3bb4dd6', 'b3bdded5', 'b43c8f2f', 'b43de700', 'b4604db4', 'b46e8153', 'b4aa9fef', 'b52bd596', 'b5552931', 'b55a09be', 'b5935410', 'b6091c84', 'b65f6015', 'b66f4f93', 'b71ebf79', 'b72e58c9', 'b80d6c5e', 'b843de62', 'b87bdb22', 'b8897f1c', 'b93528e3', 'b9cccd01', 'b9f46737', 'ba59cab3', 'ba676390', 'bab36420', 'baf01c1f', 'bbaa7946', 'bbb2eb5b', 'bbd0bbd0', 'bc065a17', 'bcdaa7a9', 'bd2db1a5', 'bd8412df', 'bda605da', 'bdb90d38', 'be7a5b2d', 'be7fa0a3', 'be91a00a', 'bf5d409d', 'bf70feda', 'bf90a57a', 'bfa63751', 'bfb10243', 'c0445658', 'c08585c1', 'c08e5058', 'c0c701f1', 'c0f8f4df', 'c0fb6812', 'c120e80e', 'c1d39ce8', 'c1e0e8e3', 'c1eebc0b', 'c205e625', 'c22ebf46', 'c245d3d7', 'c25a032b', 'c2aeb59d', 'c2bc4489', 'c2d74084', 'c33682f0', 'c37a72d3', 'c38720cb', 'c392e01d', 'c39703ec', 'c4500713', 'c53b335a', 'c578beb0', 'c634a189', 'c68cf200', 'c692524d', 'c6ca5d01', 'c71e3acc', 'c79159aa', 'c7aa72e6', 'c7aaad67', 'c7e02d9c', 'c7f9ffb5', 'c8771f88', 'c885a039', 'c8db14a8', 'c93d5e22', 'c948d727', 'c9a5100f', 'c9b653a0', 'ca58a8c6', 'ca6d5cd1', 'caa4779f', 'caa7feaf', 'cb164eea', 'cb2929ce', 'cb802c63', 'cba7f985', 'cc3d1613', 'cc554de3', 'cc6ee39b', 'cc71bada', 'ccb1266b', 'cce17a61', 'cce7416f', 'ccfd721c', 'cd68e997', 'cd7f8c1b', 'cd8b1781', 'cd911ace', 'ce49cb60', 'ce7a8e92', 'ce9410da', 'cee22275', 'cf68fad2', 'cf87b736', 'cf8d91cf', 'd0858dce', 'd0ce2418', 'd0f7bef5', 'd1d3e64d', 'd278d8ef', 'd2eae23d', 'd2f4f431', 'd31d8dd7', 'd37e4bf1', 'd3c2470e', 'd3f22f0e', 'd486fb84', 'd4d898d7', 'd53e25ba', 'd5cdb23e', 'd6360b32', 'd6b155a5', 'd7529c0c', 'd78858d9', 'd7a58714', 'd84829e0', 'd8521ea0', 'd85270c1', 'd8a5ace5', 'd8c52371', 'd8ee4734', 'd926bb17', 'd94eb94f', 'd952a17e', 'd98dd124', 'd9b50b8b', 'd9b8fab2', 'd9d6559e', 'da2c5f1b', 'da4ef063', 'da584bc0', 'da5dadb9', 'da76aa58', 'da8fa823', 'dabd70c2', 'dabf67d9', 'dac8b7f9', 'db79a764', 'db7c95b0', 'db9cfc88', 'dbb7723a', 'dcbfe008', 'dcc012ec', 'dce5041a', 'dd6c6806', 'de650823', 'dec73123', 'dedc7fab', 'df1d5024', 'df5457dc', 'df6bd83f', 'e0315cf6', 'e0ff1e9c', 'e10e2cbb', 'e1aa22e4', 'e1f1eadc', 'e20be42a', 'e2362167', 'e269bac0', 'e2b7d6d6', 'e3411931', 'e39a8ddc', 'e3e49931', 'e48a80ed', 'e4a2cf79', 'e4b02540', 'e53139ad', 'e55a2b20', 'e5afa9b0', 'e5d2e09d', 'e6515415', 'e652590d', 'e6be0830', 'e7117d00', 'e72aa705', 'e7334395', 'e76dd1ce', 'e77d88fc', 'e7ea8b76', 'e805a617', 'e82914c0', 'e855b8f1', 'e8d562ca', 'e900b652', 'e91d173e', 'e98cb283', 'e9b61425', 'ea7ca285', 'ea9f8e11', 'ead2934a', 'eb0676ec', 'eb3f7d82', 'eb67fcbc', 'eb6dab4a', 'ec201020', 'ec545975', 'ec7d1151', 'ece1a95a', 'ecef25ba', 'ed07d5b7', 'ed3c2d05', 'edd8bfe3', 'ede2f4ee', 'ee07dcb9', 'ee28caac', 'efa16ffd', 'efbb27a6', 'efc5e569', 'f00180d0', 'f06190c1', 'f0ebef1b', 'f104f742', 'f174517e', 'f19279c4', 'f19d1738', 'f1d36c53', 'f216055e', 'f21893dc', 'f2a90886', 'f2b8fc18', 'f3210686', 'f35eedd7', 'f3d06008', 'f4386675', 'f44f440f', 'f4504600', 'f47d644e', 'f4cae173', 'f4f59743', 'f5733968', 'f575faf3', 'f59d0771', 'f5c3de1b', 'f5d09ebd', 'f632210f', 'f638a812', 'f6617a86', 'f7879738', 'f7b43563', 'f804cbb3', 'f852895b', 'f875f965', 'f88f97a7', 'f8f60f59', 'f9273a21', 'f9318c93', 'f953e1af', 'f9af0887', 'f9af823e', 'f9bdf10e', 'f9f9751d', 'fa44fcf5', 'fa70c187', 'fac7deca', 'facd97c0', 'fad7a69a', 'fafe8101', 'fb01a182', 'fb24c826', 'fb2f3242', 'fb727898', 'fb7c9b3b', 'fbe51750', 'fbf3dd31', 'fce65496', 'fe11e258', 'fe291fa9', 'ffbb695d', 'ffd2ba2f', 'fffcabd1', '00970ce1', '00b01445', '019fa366', '02e85b60', '070b49af', '07ad9b59', '08ab8082', '093f65a1', '0943c746', '095847e4', '0a9f9af7', '0ac15fe9', '0b40aa8e', '0bd689d7', '0bfec55f', '0eb48e10', '0f3f64d5', '106a6183', '11099149', '11379f4d', '12623a81', '12c206ea', '130d9a87', '13d7b8c9', '14775481', '151bfb79', '15c563d7', '1626bc5a', '1678e6f1', '196e84b7', '199da2bf', '19e98e89', '1b459024', '1b835b87', '1b88bf70', '1ba20be2', '1c3f4fac', '1cc80e39', '1d919a90', '1e9b215e', '1eddce1d', '214ccb20', '2151b09a', '2197f41c', '22296dbe', '2250f5f2', '2275edbb', '24c9f572', '257251e0', '2579e514', '26631bee', '26c54f73', '2903efb3', '299c14b1', '29fb33da', '2ad772d6', '2b42e7a2', '2b715941', '2d3c8dcb', '2e7fac30', '2f666bb2', '2f813234', '31267b59', '31601aad', '321aba74', '327289eb', '329eab8a', '33246bc2', '3402e488', '34805883', '34881b10', '34d5aa5a', '352ffbe3', '36050ef3', '364f979f', '3777c08e', '37a3cd33', '37bd115d', '3824c00e', '3852fca2', '38c30a4a', '38c388bc', '3983ba0d', '39999a0f', '39a45230', '39c13eed', '3a70ab7f', '3ae5c04f', '3b7f817e', '3b8406c0', '3c8836dc', '3e549219', '408de0a4', '422f8cf1', '4254621e', '434a267c', '437455be', '44dad20e', '44fb4274', '45864319', '459345ea', '462dca36', '4634529e', '4649256f', '477f5b36', '4954abe8', '49f30eed', '4d04f1d1', '4f2be90f', '4f5c0b28', '4f781a59', '4fd4d073', '50928b05', '5104f2f4', '5195f0ec', '51eefcc6', '51f4d5b0', '520e8c0e', '528f9242', '530306f5', '53578f4e', '540d8427', '5588c7e6', '5628d7b7', '56cd307a', '56f78b7e', '56f8a100', '59c3a7f2', '59fe87e6', '5ab63b0a', '5ac04a92', '5cf55001', '5d0ab165', '5e1b34a6', '5e3b7a84', '5fc3ed24', '5fe4a278', '6078eb0d', '626e323f', '6272b231', '6301e683', '64f83f0e', '654772d3', '656e8bb3', '659b7fae', '65d14087', '668115dd', '66cbe2b3', '6727b579', '67fcdb05', '695c2127', '6a861f21', '6add0595', '6cb6eee7', '6cf5459b', '6dfff95a', '6e74c582', '6e8b9b7b', '6ef76186', '6f1ffef6', '7014b07e', '708b8d51', '7096522d', '71aa5b54', '71bf8f48', '71e6ab20', '72be9202', '7318280c', '735845ab', '73af0c50', '73cccfaf', '743edf9d', '74551073', '745a8e32', '74fc51e5', '77655bdf', '778a4a01', '77ac58c5', '7ab5b8f7', '7cb5c0b7', '7cfb1618', '7de97453', '7e2d5caf', '7e7f0ed6', '7e843da8', '8012c69d', '80b8eab4', '82305c3a', '823353e5', '834f03fe', '8536c82d', '8549f25d', '85c5eaa0', '8601f33b', '86fa2dcd', '87728a88', '88053e92', '88f3719f', '890e4ee2', '8931f494', '8a56f36e', '8c780627', '8ca3b1db', '8dc26a15', '8dd788d8', '8ed25ef8', '8f0d3c27', '8fce59ff', '8ff44869', '91942e89', '91bed2e0', '9229bff9', '954f190f', '96c66ab7', '96cd0255', '98170b49', '999823db', '99b05bcf', '9a8d8d34', '9d7036f9', '9dcfba4b', '9e44aca3', '9f22307d', '9f6fbdb4', '9f7079fe', '9f92fb7c', 'a0a8d759', 'a0f93943', 'a243fcc2', 'a3fc7884', 'a40c62f1', 'a42a88ff', 'a4b21cbc', 'a5527c48', 'a583c5b0', 'a5b24175', 'a5d1becc', 'a709ddd3', 'a759efbc', 'a8688b67', 'a95dbfd4', 'a97017df', 'a9b574b3', 'aa109cfb', 'aa62fdad', 'aac5b7c1', 'ab3f0c1b', 'ab76ac76', 'abbfc3b4', 'ac899eb7', 'acde7e73', 'ad340ed7', 'ad9de4dd', 'adb45ef2', 'adec6a94', 'ae71797c', 'afe0b87d', 'b01c8f61', 'b1de039c', 'b4bef564', 'b544d4fd', 'b59fa113', 'b59fe16d', 'b6026214', 'b63fea9e', 'b665723d', 'b6d11c9b', 'b6e6aa2e', 'b84f83d2', 'b8872c20', 'b9515bf3', 'b9db6e42', 'baeac2ba', 'bd11c654', 'beb49c22', 'becd5a53', 'bf8b8d9e', 'bfdb9801', 'c0e8f5a1', 'c103a2d5', 'c137814b', 'c18d8d00', 'c4533c47', 'c45c2b76', 'c5570933', 'c5c60d8d', 'c661be6e', 'c6a23ff5', 'c727b558', 'c7b4049e', 'c86d4fd4', 'c87a578d', 'cae62f38', 'caf1803e', 'cb5d2c6e', 'cd3331a6', 'cdbd6969', 'cdfbbe75', 'ceaadb24', 'ced4e2a1', 'd069e6ff', 'd1214f15', 'd1453a87', 'd3a18257', 'd3badc9a', 'd4082f3e', 'd5356b9a', 'd7559b2d', 'd7ca14ef', 'd7d733d2', 'd8c314c0', 'd8ed3745', 'd933bf5e', 'db9cd41d', 'dc269564', 'dc7ec25b', 'de040337', 'de08912f', 'de41f895', 'de4f7798', 'df280250', 'dff327c5', 'e0322f2c', 'e0344f60', 'e04d7130', 'e0611c84', 'e0a7c5a0', 'e102119e', 'e14d3db8', 'e1936ce8', 'e2008f39', 'e32ff49d', 'e4200516', 'e57abea3', 'e57d35bc', 'e5c48e53', 'e5dadd24', 'e7ebf59c', 'e99d36c8', 'ecbd8d66', 'ed0720f1', 'ee483d85', 'ee4a907f', 'ee6163d5', 'eefd26f3', 'ef2578c0', 'efab2cbd', 'f0ac2522', 'f15a354c', 'f19c1390', 'f1b35ace', 'f33660af', 'f3957e23', 'f42e234b', 'f45fcf9a', 'f4c77b26', 'f618568f', 'f6581345', 'f810e799', 'f816db77', 'f839238a', 'f97e1fcd', 'fac74f6a', 'fb9d6d23', 'fbdc07bb', 'fda46b78', 'fe5c4a7a', 'ff63ab0b', '01bb6a2a', '030ec18b', '03cf93b1', '05cf43ef', '069ab0d5', '075e38c3', '079d1020', '0819edb0', '0c09f202', '0cd323ec', '0f2442b6', '0f7205ef', '122c5aa7', '1338a799', '15c9605c', '173e6bbf', '1851e33b', '1aeef15e', '1c1060b1', '1cec8d71', '1e31353f', '1fd85ee4', '201e28a9', '20d779bf', '2144be19', '22cb56b3', '2335770e', '24694eb6', '2cec1d47', '2dc4f05d', '2dce72b3', '3006c271', '30aabd44', '31e686d2', '3250c035', '32561e9e', '3367cff6', '33b5516a', '340c8b10', '35c29afe', '363c6bad', '377e916b', '37d38e44', '380abbad', '39025b21', '39543cfd', '39a12648', '3d3ddaf8', '3d9200b9', '3dfd6c23', '3f6ba067', '40b60ae9', '421ed23f', '4249c833', '42c467d0', '4422e51d', '45adf84a', '4a4e28f1', '4c77947d', '4d4e17f5', '4e8c5516', '53458368', '571c044e', '59b98a22', '5c237956', '5db0e146', '5de3f6cc', '60402b64', '63f042c6', '65846c5f', '6794a793', '6982fc2a', '69f609ec', '6a497f80', '6ac35824', '6c9223bd', '721f767c', '72d75d96', '748cb308', '763188c4', '76b58705', '7c2a3fa4', '7e556a2c', '7e6bd776', '80f056c0', '833a0279', '86cb59b2', '8a1c449e', '8bf6acb9', '8c7b691a', '8d4cdc60', '8e69dc2f', '8e884ec4', '8f4c551f', '8f811bbc', '92b0a735', '9385508d', '93f30cc4', '97101ef3', '9735764a', '977a3be4', '97cbf436', '97e21567', '99a9b015', '9fb766d0', 'a13e0a74', 'a434d52e', 'a4ca3afe', 'a74f3917', 'a7545b9f', 'a827e3a1', 'ac4b3fc3', 'afd53389', 'b10b0654', 'b19f7f5f', 'b36c27c2', 'b5aacf2c', 'b8b8cb52', 'bbbf4fbd', 'bd11a2e7', 'bf8d5617', 'bfaf2000', 'c0c0d87d', 'c1b7c224', 'c2df23b2', 'c44d2a58', 'cc1e9101', 'cc2f1a85', 'd0426d63', 'd571f9d7', 'd5dd88da', 'd606b573', 'd71ad617', 'da15e796', 'da1d320c', 'da27460c', 'db8a3397', 'dc6e9c04', 'dce05676', 'dea820ce', 'df038de4', 'dfb6450b', 'e2286c18', 'e3b64217', 'e9287461', 'e9323bd9', 'ea1f888c', 'eb609143', 'eb76bc68', 'efbc3952', 'f192e6b4', 'f550b7dc', 'f8ad3941', 'fb495c43', 'ff21fb59', '01d22d03', '023a61ad', '0616de09', '06a79a03', '144d27ff', '14587ff0', '152491bc', '15574821', '18a6a90e', '19414a96', '1daa5ada', '211ccd2e', '23059a35', '25132942', '2e30f9a5', '36de13e1', '3847619e', '3c1e12cf', '3ffa3457', '44f68a83', '483e2a6f', '4b39347d', '4ec7d027', '5188de0d', '560c5be4', '5b26c81b', '61a0d340', '6aafb34f', '6bd4554d', '6e899c9a', '6f2c6f7e', '71f9bba8', '7be9f58a', '7d86b703', '7d8babdb', '8a8756a4', '93b62ffd', '96d5276f', '98f4f088', '9b6c08ba', '9d050657', '9f4098cb', 'a879a2c3', 'aca15398', 'afbec28d', 'b176f8e9', 'b575b5fb', 'c741d0df', 'ca5d184c', 'cd1baff6', 'd1a17cbe', 'd312f481', 'd3aa45ff', 'd5c41d6a', 'd98f6043', 'db72a474', 'e18b3705', 'e453d477', 'e62056e2', 'e7d0eb3f', 'e9e07a2d', 'eee5e541', 'f5e44d34', 'f63a6479', 'fb7cfe0e', 'fc2411fe', 'fc28c8d8', 'fcb25a78', '03431e13', '038da7ee', '14c2b13d', '190821dc', '1fc04a13', '2167c2ed', '26e517a4', '3477fab6', '3ea77ede', '53eb0a88', '5a3fc246', '65079685', '68c2a1bf', '6c6aa323', '76424fa5', '8a194ee6', '8d9cc260', '94b5b397', '9785931e', '9a5db2cb', 'a19a0225', 'a4effc43', 'a584bab4', 'a91075ea', 'ae92fa32', 'b0d061c5', 'b7a0754f', 'b959cd0c', 'c4f875a9', 'c9027901', 'ca4eeab0', 'd33df435', 'd430b3cc', 'd5a9020e', 'd7c60815', 'd9d08edd', 'e92b6401', 'eb3d8eb1', 'ee202358', 'f864cd4a', 'feb1d305', '00761705', '061a5915', '090efdc4', '0b139000', '107bc341', '1930353c', '1b0ba6f1', '246d2c7f', '2c393fd2', '3ee0fc39', '4a671512', '4c1aa16d', '4e02d62d', '50b86bf8', '5184ed3e', '66f07c09', '77e292a6', '89e59d18', '92037d73', '96105282', 'a5a16097', 'a685a59d', '023808be', '1b5ba788', '26653895', '2d327bc8', '2df590cd', '3da7f617', '4c62312c', '6d2d3b0d', '6f3458b3', '7106d229', '7f17667c', '8cb707fc', 'a4c938ce', 'a97c6445', 'ed0965eb', 'ed3e20dc', '19a10aae', 'a9b4c2ef', 'ad6f7c10', 'b21fbf13', 'c68b2763', '18d120ae', '33fb3f93', '3437d72e', '58137b8e', '02fcd241', '0c5027de', '0d97f020', '1586e28e', '24632875', '476e02f8', '487709e7', '56abe7dc', '673632f3', '7985e718', '82383458', '93bbf0bd', 'a07cfddf', 'adc6213f', 'e8b6f6fe', 'ebe811e9', 'f2ec8bdc', '139b255d', '2365eedb', '338a40d6', '4bba14ce', '7fb54718', '8a2d34d7', 'ac652c60', 'c2e08f08', 'e9a76b2f', '33f60c62', '63e83991', '65303f47', '679e9a95', '96c88089', 'c11c1587', 'd6265c56', '1c50d874', '33225a3f', '75915c90', '89865a6f', '96de5e7f', 'bad64eac', 'cd997d46', 'e4ed81a1', 'ec5ab5d5', '239a7376', '271d51c0', '55463c16', '5e25eeef', '7ff8e367', 'abe2e875', 'd4b14f03', 'de6eb27c', 'ed3142fa', '574ec766', '5b7cb31f', 'ba770f9b', 'c601833f', 'c84f9b5c', 'd750966e', 'da5e685e', '067c8570', '2ba8c7a4', '3a6d4afd', '3d676310', '4d0d9906', '7625dcf7', '86b1500e', '9205fb3c', '928cc2ef', 'bf4af1af', 'dca6b373', '1e8044b4', '21307344', '35be2cc3', '4394fc7c', '5b34ad80', 'c4a7a867', 'c8b904e3', '7d9c00ce', 'fe31cb13', '132f6c15', '172b9c95', '2b1dffa7', '3f339c33', '7329545b', '8911b8d2', 'f57469fb', '02583d36', '0547aa66', '2228657c', '3c6e33df', '44b5720d', '82e583e7', '98582fee', 'ccd324fc', 'd1b4694a', 'e63b7bf7', '9080f6d3', '06dacdb9', '0a0b46ae', '0e4d22f1', '1224e4a7', '140a0fdc', '29192d51', '3fd21070', '6c2dd2d5', '6ef841e8', 'f478ba44', '44b9b0c1', '589f8720', 'aa1645d3', '0cc6b0b0', '95458fae', 'e07dd7d4', '07f7e812', '4f2ab70c', '6fbe8c37', 'a412e853', 'e638109b', 'f3b92ae0', 'fb969eb4', 'ad9d6cbf', 'a6574a65', '4898b793', 'e12c25b5', '73f0659a', '35078d24', '403a4d3e', '8b39e36f', 'de4311b9', 'e41e41f7', '94c366a3', '9aa5439d', 'ea12e0d1']\n",
      "Unique words: 2112\n"
     ]
    },
    {
     "name": "stderr",
     "output_type": "stream",
     "text": [
      "\n"
     ]
    }
   ],
   "source": [
    "from tqdm import tqdm\n",
    "\n",
    "word_list = []\n",
    "for data in tqdm(trainset):\n",
    "    if data[3] not in word_list:\n",
    "        word_list.append(data[3])\n",
    "print(f'Words: {word_list}')\n",
    "print(f'Unique words: {len(word_list)}')"
   ]
  },
  {
   "cell_type": "code",
   "execution_count": 13,
   "metadata": {},
   "outputs": [
    {
     "name": "stderr",
     "output_type": "stream",
     "text": [
      "100%|██████████| 11005/11005 [00:01<00:00, 6963.15it/s]"
     ]
    },
    {
     "name": "stdout",
     "output_type": "stream",
     "text": [
      "Words: ['right', 'eight', 'cat', 'tree', 'backward', 'learn', 'bed', 'happy', 'go', 'dog', 'no', 'wow', 'follow', 'nine', 'left', 'stop', 'three', 'sheila', 'one', 'bird', 'zero', 'seven', 'up', 'visual', 'marvin', 'two', 'house', 'down', 'six', 'yes', 'on', 'five', 'forward', 'off', 'four']\n",
      "Unique words: 35\n"
     ]
    },
    {
     "name": "stderr",
     "output_type": "stream",
     "text": [
      "\n"
     ]
    }
   ],
   "source": [
    "from tqdm import tqdm\n",
    "\n",
    "word_list = []\n",
    "for data in tqdm(testset):\n",
    "    if data[2] not in word_list:\n",
    "        word_list.append(data[2])\n",
    "print(f'Words: {word_list}')\n",
    "print(f'Unique words: {len(word_list)}')"
   ]
  },
  {
   "cell_type": "code",
   "execution_count": 14,
   "metadata": {},
   "outputs": [
    {
     "name": "stdout",
     "output_type": "stream",
     "text": [
      "down: True\n",
      "go: True\n",
      "left: True\n",
      "no: True\n",
      "off: True\n",
      "on: True\n",
      "right: True\n",
      "stop: True\n",
      "up: True\n",
      "yes: True\n",
      "silence: False\n",
      "unknown: False\n"
     ]
    }
   ],
   "source": [
    "mlperf_word_labels = [\"down\", \"go\", \"left\", \"no\", \"off\", \"on\", \"right\",\n",
    "               \"stop\", \"up\", \"yes\", \"silence\", \"unknown\"]\n",
    "\n",
    "for word in mlperf_word_labels:\n",
    "    print(f'{word}: {word in word_list}')"
   ]
  }
 ],
 "metadata": {
  "kernelspec": {
   "display_name": "cidr-ufl",
   "language": "python",
   "name": "python3"
  },
  "language_info": {
   "codemirror_mode": {
    "name": "ipython",
    "version": 3
   },
   "file_extension": ".py",
   "mimetype": "text/x-python",
   "name": "python",
   "nbconvert_exporter": "python",
   "pygments_lexer": "ipython3",
   "version": "3.9.16"
  },
  "orig_nbformat": 4
 },
 "nbformat": 4,
 "nbformat_minor": 2
}
